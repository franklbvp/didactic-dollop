{
 "cells": [
  {
   "cell_type": "markdown",
   "metadata": {},
   "source": [
    "# Some basic Python syntax\n"
   ]
  },
  {
   "cell_type": "code",
   "execution_count": null,
   "metadata": {},
   "outputs": [],
   "source": [
    "# In order to ensure that all cells in this notebook can be evaluated without errors, we will use try-except to catch exceptions. To show the actual errors, we need to print the backtrace, hence the following import.\n",
    "from traceback import print_exc"
   ]
  },
  {
   "cell_type": "markdown",
   "metadata": {},
   "source": [
    "### comments\n",
    "Comments are marked by `#`\n",
    "Anything on the line following the hash sign is ignored by the interpreter"
   ]
  },
  {
   "cell_type": "code",
   "execution_count": null,
   "metadata": {},
   "outputs": [],
   "source": [
    "x = 2 # assign x a value of 2\n",
    "\n",
    "# print the value of x\n",
    "\n",
    "print(x) "
   ]
  },
  {
   "cell_type": "markdown",
   "metadata": {},
   "source": [
    "### docstring\n",
    "\n",
    "Strings at the top of module files, the top of functions, and the top of classes become “docstrings” which are automatically inserted into the __doc__ attribute of the object\n",
    "\n",
    "* The doc string line should begin with a capital letter and end with a period. \n",
    "* The first line should be a short description.\n",
    "* If there are more lines in the documentation string, the second line should be blank, visubally separating the summary from the rest of the description. \n",
    "* The following lines should be one or more paragraphs describing the object’s calling conventions, its side effects, etc."
   ]
  },
  {
   "cell_type": "code",
   "execution_count": null,
   "metadata": {},
   "outputs": [],
   "source": [
    "def sum(x, y):  \n",
    "    \"\"\"This function just adds two numbers\"\"\"\n",
    "    return x+y \n"
   ]
  },
  {
   "cell_type": "code",
   "execution_count": null,
   "metadata": {},
   "outputs": [],
   "source": [
    "print(sum(5,6))\n",
    "help(sum)\n",
    "print(sum.__doc__)\n"
   ]
  },
  {
   "cell_type": "markdown",
   "metadata": {},
   "source": [
    "### Statement\n",
    "\n",
    "A statement is one complete “sentence” in the language.  It contains one complete instruction. "
   ]
  },
  {
   "cell_type": "code",
   "execution_count": 1,
   "metadata": {},
   "outputs": [
    {
     "name": "stdout",
     "output_type": "stream",
     "text": [
      "3\n"
     ]
    }
   ],
   "source": [
    "x = 2 + 1\n",
    "print(x)"
   ]
  },
  {
   "cell_type": "markdown",
   "metadata": {},
   "source": [
    "### continuation\n",
    "\n",
    "`\\` marker is a continuation line"
   ]
  },
  {
   "cell_type": "code",
   "execution_count": 4,
   "metadata": {},
   "outputs": [
    {
     "name": "stdout",
     "output_type": "stream",
     "text": [
      "x =  36\n",
      "a\t x\t \n"
     ]
    }
   ],
   "source": [
    "a = 8\n",
    "x = 1 + 2 + 3 + 4 +\\\n",
    "    5 + 6 + 7 + 8\n",
    "print('x = ', x)\n",
    "%who"
   ]
  },
  {
   "cell_type": "markdown",
   "metadata": {},
   "source": [
    "### `;`\n",
    "Semicolon `;` can optionally terminate a statement (discouraged)"
   ]
  },
  {
   "cell_type": "code",
   "execution_count": null,
   "metadata": {},
   "outputs": [],
   "source": [
    "lower = []; upper = []\n",
    "%whos"
   ]
  },
  {
   "cell_type": "markdown",
   "metadata": {},
   "source": [
    "Python accepts single ′, double \" quotes to denote string literals, as long as the same\n",
    "type of quote starts and ends the string. String literals inside triple quotes, \"\"\" or ''', can span multiple lines of text.\n",
    "\n",
    "Triple quotes are also used as *docstrings*\n"
   ]
  },
  {
   "cell_type": "code",
   "execution_count": null,
   "metadata": {},
   "outputs": [],
   "source": [
    "word = 'word'\n",
    "sentence = \"This is a sentence.\"\n",
    "paragraph = \"\"\"This is a paragraph. It is\n",
    "made up of multiple lines and sentences.\"\"\"\n",
    "long_sentence = \"this is the first part \\n\\\n",
    "this is the second part\""
   ]
  },
  {
   "cell_type": "code",
   "execution_count": null,
   "metadata": {},
   "outputs": [],
   "source": [
    "print(word)\n",
    "print(sentence)\n",
    "print(paragraph)\n",
    "print(long_sentence)\n"
   ]
  },
  {
   "cell_type": "code",
   "execution_count": null,
   "metadata": {},
   "outputs": [],
   "source": [
    "%who"
   ]
  },
  {
   "cell_type": "markdown",
   "metadata": {},
   "source": [
    "### Blocks\n",
    "\n",
    "Statements can be grouped into **blocks**\n",
    "\n",
    "a **block of code** is a set of statements that should be treated as a unit.\n",
    "\n",
    "* Structures that introduce a block end with a colon `:`\n",
    "* Blocks are indicated by **indentation level**.\n",
    "\n",
    "Indent each block by however many spaces you wish, but each block level must be indented by exactly the same number.  \n",
    "* Do not use tabs.\n",
    "* Some editors (e.g. Spyder) will automatically indent the next statement to the same level as the one before it.\n",
    "* The Python standard is to use four white spaces to indent code.\n"
   ]
  },
  {
   "cell_type": "code",
   "execution_count": 5,
   "metadata": {},
   "outputs": [
    {
     "name": "stdout",
     "output_type": "stream",
     "text": [
      "0\n",
      "final sum =  0\n",
      "2.0\n",
      "final sum =  2.0\n",
      "2.0\n",
      "final sum =  2.0\n",
      "4.0\n",
      "final sum =  4.0\n",
      "8.0\n",
      "final sum =  8.0\n",
      "8.0\n",
      "final sum =  8.0\n"
     ]
    }
   ],
   "source": [
    "from math import sqrt\n",
    "\n",
    "# calculate the sum of square root of even numbers\n",
    "my_numbers = [1, 4, 3, 4, 16, 9]\n",
    "sum = 0\n",
    "for i in my_numbers:\n",
    "    if i%2 == 0:\n",
    "        sum = sum + sqrt(i)\n",
    "    print(sum)\n",
    "    print('final sum = ',sum)"
   ]
  },
  {
   "cell_type": "code",
   "execution_count": 6,
   "metadata": {},
   "outputs": [],
   "source": [
    "!notepad check_whitespace.py"
   ]
  },
  {
   "cell_type": "code",
   "execution_count": 7,
   "metadata": {
    "scrolled": true
   },
   "outputs": [
    {
     "name": "stdout",
     "output_type": "stream",
     "text": [
      "Hello\n",
      "Hello\n",
      "Hello\n",
      "Bye!\n"
     ]
    }
   ],
   "source": [
    "!python check_whitespace.py"
   ]
  },
  {
   "cell_type": "code",
   "execution_count": 9,
   "metadata": {},
   "outputs": [
    {
     "name": "stdout",
     "output_type": "stream",
     "text": [
      "Hello\n",
      "Hello\n",
      "Hello\n",
      "Bye!\n"
     ]
    }
   ],
   "source": [
    "%run check_whitespace.py"
   ]
  }
 ],
 "metadata": {
  "kernelspec": {
   "display_name": "Python 3",
   "language": "python",
   "name": "python3"
  },
  "language_info": {
   "codemirror_mode": {
    "name": "ipython",
    "version": 3
   },
   "file_extension": ".py",
   "mimetype": "text/x-python",
   "name": "python",
   "nbconvert_exporter": "python",
   "pygments_lexer": "ipython3",
   "version": "3.8.5"
  }
 },
 "nbformat": 4,
 "nbformat_minor": 2
}
