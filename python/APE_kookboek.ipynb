{
 "cells": [
  {
   "cell_type": "markdown",
   "metadata": {},
   "source": [
    "# APE:  kookboek\n",
    "\n",
    "Dit notebook is een speelveld voor Anonimisatie Pseudonimisatie & Encryptie (_APE_) technieken\n",
    "\n",
    "De basis voor de verschillende technieken wordt in dit notebook gedemonstreerd a.h.v. standaard Python bibliotheken.\n",
    "\n",
    "## Inhoud:\n",
    "* [Bron bestand](#Bronbestand)\n",
    "* [Verwijderen van een kolom](#Verwijderenvaneenkolom)\n",
    "* [Pseudoniemensleutel](#Pseudoniemensleutel)\n",
    "* [Pseudoniemensleutel tabel](#Pseudoniemensleuteltabel)\n",
    "* [Veralgemening](#Veralgemening)\n",
    "* [Fake names](#Fakenames)\n",
    "* [Hashing](#Hashing)\n",
    "* [Encryptie](#Encryptie)\n",
    "    * [Genereer een sleutel](#Genereereensleutel)\n",
    "    * [Encryptie van een string](#Encryptievaneenstring)\n",
    "    * [Encryptie van een bestand](#Encryptievaneenbestand)\n",
    "    * [Decryptie van een bestand](#Decryptievaneenbestand)\n",
    "\n",
    "\n",
    "versie: \n",
    "* 2021-03: start\n",
    "* 2021-05: uitbreiding met links\n",
    "\n",
    "todo:\n",
    "* duidelijke onderverdeling anonimiseren / pseudonimiseren? - volgen van het kookboek\n",
    "* hashing paar voorbeelden voorzien\n",
    "\n",
    "inspiratie: \n",
    "* https://korniichuk.medium.com/gdpr-guide-2-7c399b44ba3#adce\n",
    "* https://developer.ibm.com/solutions/security/articles/s-gdpr3/\n",
    "* https://www.anonos.com/enisa-chapter-1-introduction"
   ]
  },
  {
   "cell_type": "markdown",
   "metadata": {},
   "source": [
    "## Bron bestand<a class=\"anchor\" id=\"Bron_bestand\"></a>\n",
    "\n",
    "Een csv-bestand (ape_0.csv) dat persoonsgebonden gegevens bevat wordt gebruikt als startpunt. Het gaat hier om nepgegevens, deze werden gegenereerd op:  https://www.mockaroo.com/\n",
    "\n",
    "Het bestand bevat volgende kolommen:\n",
    "* id\t\n",
    "* first_name\t\n",
    "* last_name\t\n",
    "* email\t\n",
    "* gender\t\n",
    "* ip_address\t\n",
    "* city\t\n",
    "* country\t\n",
    "* age\n",
    "* income\n",
    "* score_1\t\n",
    "* score_2\n",
    "\n",
    "De gegevens worden geïmporteerd als `pandas dataframe`"
   ]
  },
  {
   "cell_type": "code",
   "execution_count": null,
   "metadata": {},
   "outputs": [],
   "source": [
    "import pandas as pd\n",
    "\n",
    "# reading CSV input\n",
    "df = pd.read_csv('ape_0.csv')\n",
    "df"
   ]
  },
  {
   "cell_type": "code",
   "execution_count": null,
   "metadata": {},
   "outputs": [],
   "source": [
    "type(df)"
   ]
  },
  {
   "cell_type": "code",
   "execution_count": null,
   "metadata": {},
   "outputs": [],
   "source": [
    "type(df.email)"
   ]
  },
  {
   "cell_type": "markdown",
   "metadata": {},
   "source": [
    "### Verwijderen van een kolom<a class=\"anchor\" id=\"Verwijderenvaneenkolom\"></a>\n",
    "\n",
    "Als gegevens niet nodig zijn binnen een studie, verwijder deze dan. Hou vast aan dataminimalisatie. \n",
    "\n",
    "*drop* de onnodige kolom(men). In dit voorbeeld wordt de kolom `email` verwijderd."
   ]
  },
  {
   "cell_type": "code",
   "execution_count": null,
   "metadata": {},
   "outputs": [],
   "source": [
    "df.drop(columns=[\"email\"], inplace=True)\n",
    "df"
   ]
  },
  {
   "cell_type": "markdown",
   "metadata": {},
   "source": [
    "#### Bewaar een dataframe\n",
    "\n",
    "* dataframe dat enkel de nodige informatie bevat, wordt weggeschreven in een .csv bestand.  \n",
    "* Verwijder het originele bestand als dit niet meer nodig is en werk verder met het bestand dat de minimale informatie bevat. "
   ]
  },
  {
   "cell_type": "code",
   "execution_count": null,
   "metadata": {},
   "outputs": [],
   "source": [
    "df.to_csv('ape_0_drop.csv')  "
   ]
  },
  {
   "cell_type": "markdown",
   "metadata": {},
   "source": [
    "### Pseudoniemensleutel<a class=\"anchor\" id=\"Pseudoniemensleutel\"></a>\n",
    "\n",
    "Een pseudoniemensleutel (token) is een pseudoniem dat wordt gebruikt in plaats van de oorspronkelijke gegevens.\n",
    "\n",
    "In dit voorbeeld wordt de `uuid` bibliotheek gebruikt. Universal Unique Identifier, is een python bibliotheek die helpt bij het genereren van willekeurige unieke id's.\n",
    "\n",
    "zie:\n",
    "* https://pynative.com/python-uuid-module-to-generate-universally-unique-identifiers/\n",
    "* https://docs.python.org/3/library/uuid.html\n",
    "\n",
    "\n",
    "In onderstaand voorbeeld worden de originele gegevens uit de kolom `email`overschreven.\n"
   ]
  },
  {
   "cell_type": "code",
   "execution_count": null,
   "metadata": {},
   "outputs": [],
   "source": [
    "import pandas as pd\n",
    "import uuid\n",
    "\n",
    "def email_tokenization(email):\n",
    "    if email not in key:\n",
    "        token = uuid.uuid4()\n",
    "        while token in key.values():  # the token must be unique\n",
    "            token = uuid.uuid4()\n",
    "        key[email] = token\n",
    "        return token\n",
    "    else:\n",
    "        return key[email]\n",
    "\n",
    "# reading CSV input\n",
    "df = pd.read_csv('ape_0.csv')\n",
    "\n",
    "key = {}\n",
    "df.email = df.email.map(email_tokenization)  # original email address is overwritten\n",
    "df"
   ]
  },
  {
   "cell_type": "code",
   "execution_count": null,
   "metadata": {},
   "outputs": [],
   "source": [
    "type(key)"
   ]
  },
  {
   "cell_type": "code",
   "execution_count": null,
   "metadata": {},
   "outputs": [],
   "source": [
    "df.to_csv('ape_0_token.csv')  "
   ]
  },
  {
   "cell_type": "markdown",
   "metadata": {},
   "source": [
    "### Pseudoniemensleutel tabel<a class=\"anchor\" id=\"Pseudoniemensleuteltabel\"></a>\n",
    "\n",
    "De code kan aangepast worden om een pseudoniemensleutel tabel te maken.\n",
    "Deze tabel zal het mogelijk maken om terug te keren naar de originele gegevens. Bewaar deze tabel veilig en apart van de gepseudonimiseerde gegevens.\n",
    "\n",
    "In onderstaand voorbeeld worden de originele gegevens gebruikt."
   ]
  },
  {
   "cell_type": "code",
   "execution_count": null,
   "metadata": {},
   "outputs": [],
   "source": [
    "import pandas as pd\n",
    "import uuid\n",
    "\n",
    "# reading CSV input\n",
    "df = pd.read_csv('ape_0.csv')\n",
    "\n",
    "def email_tokenization(email):\n",
    "    if email not in key:\n",
    "        token = uuid.uuid4()\n",
    "        while token in key.values():  # the token must be unique\n",
    "            token = uuid.uuid4()\n",
    "        key[email] = token\n",
    "        return token\n",
    "    else:\n",
    "        return key[email]\n",
    "\n",
    "\n",
    "\n",
    "key = {}\n",
    "df['emailT'] = df.email.map(email_tokenization)  # a new column is created with the tokens\n",
    "\n",
    "# create the lookup table and save it\n",
    "df_lookup = df[['email', 'emailT']]\n",
    "df_lookup.to_csv('lookup_0_email_token.csv') \n",
    "\n",
    "# remove the original email column\n",
    "df.drop(columns=['email'], inplace=True)\n",
    "\n",
    "df_lookup"
   ]
  },
  {
   "cell_type": "code",
   "execution_count": null,
   "metadata": {},
   "outputs": [],
   "source": [
    "whos"
   ]
  },
  {
   "cell_type": "markdown",
   "metadata": {},
   "source": [
    "### Veralgemening <a class=\"anchor\" id=\"Veralgemening\"></a>\n",
    "\n",
    "Onderstaand voorbeeld is een eenvoudig voorbeeld over het veralgemenen van numerieke gegevens. \n",
    "De waarden van kolom `age` worden gecontroleerd en een string wordt teruggeplaatst als resultaat. Idem voor de numerieke gegevens van de kolom `income`."
   ]
  },
  {
   "cell_type": "code",
   "execution_count": null,
   "metadata": {},
   "outputs": [],
   "source": [
    "import pandas as pd\n",
    "\n",
    "def age_generalization(age):\n",
    "    if age < 18:\n",
    "        return 'Age <= 18'\n",
    "    else:\n",
    "        return 'Age > 18'\n",
    "    \n",
    "def income_generalization(income):\n",
    "    if income < 24000:\n",
    "        return 'Below Average'\n",
    "    else:\n",
    "        return 'Above Average'\n",
    "\n",
    "# reading CSV input\n",
    "df = pd.read_csv('ape_0.csv')\n",
    "\n",
    "\n",
    "df.age = df.age.map(age_generalization)\n",
    "df.income = df.income.map(income_generalization)\n",
    "df\n",
    "df.to_csv('ape_0_generalization.csv')  "
   ]
  },
  {
   "cell_type": "markdown",
   "metadata": {},
   "source": [
    "### Fake names <a class=\"anchor\" id=\"Fakenames\"></a>\n",
    "\n",
    "De `faker`bibliotheek laat toe om snel nepgegevens aan te maken en deze kunnen dan gebruikt worden als pseudoniem. De originele gegevens kunnen overschreven worden, ofwel kan er een koppeltabel gecreëerd worden die dan veilig en apart van de gepseudonimiseerde gegevens moet bewaard worden.\n",
    "\n",
    "In dit voorbeeld wordt de kolom `email` vervangen door nep emailadressen."
   ]
  },
  {
   "cell_type": "code",
   "execution_count": null,
   "metadata": {},
   "outputs": [],
   "source": [
    "import pandas as pd\n",
    "from faker import Faker\n",
    "\n",
    "def email_pseudonymization(email):\n",
    "    if email not in key:\n",
    "        pseudonym = fake.email()\n",
    "        while (pseudonym in key.values()) or (pseudonym in key):\n",
    "            pseudonym = fake.email()\n",
    "        key[email] = pseudonym\n",
    "        return pseudonym\n",
    "    else:\n",
    "        return key[email]\n",
    "\n",
    "# reading CSV input\n",
    "df = pd.read_csv('ape_0.csv')\n",
    "\n",
    "key = {}\n",
    "fake = Faker()\n",
    "df.email = df.email.map(email_pseudonymization)\n",
    "df\n",
    "df.to_csv('ape_0_fakenames.csv')  "
   ]
  },
  {
   "cell_type": "markdown",
   "metadata": {},
   "source": [
    "### Hashing <a class=\"anchor\" id=\"Hashing\"></a>\n",
    "\n",
    "Onderstaand voorbeeld gebruikt de `hashlib`bibliotheek om gegevens te hashen.\n",
    "* https://docs.python.org/3/library/hashlib.html\n",
    "* https://pymotw.com/3/hashlib/\n",
    "\n",
    "Binnen de `hashlib`bibliotheek zijn er 3 belangrijke funties:\n",
    "* `update()`– De string die je wilt versleutelen moet gebruikt worden als argument in de functie.  \n",
    "* `encode()`– de update() functie vereist een gecodeerde string, d.w.z. een opeenvolging van bits, daarom is de utf-8 codering of b nodig\n",
    "* `hexdigest()`– Deze functie wordt gebruikt om de versleutelde string te genereren.\n",
    "\n"
   ]
  },
  {
   "cell_type": "code",
   "execution_count": null,
   "metadata": {},
   "outputs": [],
   "source": [
    "import pandas as pd\n",
    "import hashlib\n",
    "\n",
    "def email_hashing(email):\n",
    "    if email not in key:\n",
    "        sha3 = hashlib.sha3_512()\n",
    "        data = salt + email\n",
    "        sha3.update(data.encode('utf-8'))\n",
    "        hexdigest = sha3.hexdigest()\n",
    "        key[email] = hexdigest\n",
    "        return hexdigest\n",
    "    else:\n",
    "        return key[email]\n",
    "\n",
    "# reading CSV input\n",
    "df = pd.read_csv('ape_0.csv')\n",
    "\n",
    "salt = 'medium'\n",
    "key = {}\n",
    "df.email = df.email.map(email_hashing)\n",
    "df"
   ]
  },
  {
   "cell_type": "markdown",
   "metadata": {},
   "source": [
    "## Encryptie <a class=\"anchor\" id=\"Encryptie\"></a>\n",
    "\n",
    "bron: https://www.geeksforgeeks.org/encrypt-and-decrypt-files-using-python/\n",
    "\n",
    "De `cryptography` bibliotheek zal worden gebruikt in onderstaande voorbeelden om gegevens te versleutelen. De `cryptography` bibliotheek gebruikt een symmetrisch algoritme om het bestand te versleutelen. Bij een symmetrisch algoritme wordt dezelfde sleutel gebruikt om het bestand te versleutelen en te ontsleutelen. De `fernet` module van het pakket heeft ingebouwde functies voor het genereren van de sleutel, encrypteren en decrypteren met respectievelijk de `encrypt()` en `decrypt()` methoden. De `fernet` module garandeert dat gegevens die met deze module zijn versleuteld niet verder kunnen worden gemanipuleerd of gelezen zonder de kennis van de sleutel. \n",
    "\n"
   ]
  },
  {
   "cell_type": "markdown",
   "metadata": {},
   "source": [
    "### Genereer een sleutel <a class=\"anchor\" id=\"Genereereensleutel\"></a>\n",
    "\n",
    "Een *sleutel* wordt gebruikt om tekst te versleutelen, om een sterke sleutel te hebben kan deze worden gegenereerd door de software bibliotheek. \n",
    "\n",
    "In onderstaand voorbeeld wordt de sleutel weggeschreven in een bestand. Dit bestand moet zorgvuldig bewaard worden, want deze sleutel is nodig om de gegevens te decrypteren en de toegang tot deze sleutel moet heel erg beperkt zijn."
   ]
  },
  {
   "cell_type": "code",
   "execution_count": null,
   "metadata": {},
   "outputs": [],
   "source": [
    "# import required module \n",
    "from cryptography.fernet import Fernet"
   ]
  },
  {
   "cell_type": "code",
   "execution_count": null,
   "metadata": {},
   "outputs": [],
   "source": [
    "# key generation \n",
    "key = Fernet.generate_key() \n",
    "  \n",
    "# string the key in a file \n",
    "with open('filekey.key', 'wb') as filekey: \n",
    "   filekey.write(key)"
   ]
  },
  {
   "cell_type": "markdown",
   "metadata": {},
   "source": [
    "### Encryptie van een string <a class=\"anchor\" id=\"Encryptie_van_een_string\"></a>\n",
    "\n",
    "Voorbeeld van de encryptie van een string ('My secret message'). "
   ]
  },
  {
   "cell_type": "code",
   "execution_count": null,
   "metadata": {},
   "outputs": [],
   "source": [
    "message = \"My secret message\".encode() # bytes\n",
    "# initialize the Fernet class\n",
    "f = Fernet(key)\n",
    "# encrypt the message\n",
    "encrypted = f.encrypt(message)\n",
    "# print how it looks\n",
    "print(encrypted)"
   ]
  },
  {
   "cell_type": "code",
   "execution_count": null,
   "metadata": {},
   "outputs": [],
   "source": [
    "decrypted_encrypted = f.decrypt(encrypted)\n",
    "print(decrypted_encrypted)\n",
    "original_message = decrypted_encrypted.decode() # bytes to string\n",
    "print(original_message)"
   ]
  },
  {
   "cell_type": "markdown",
   "metadata": {},
   "source": [
    "### Encryptie van een bestand <a class=\"anchor\" id=\"Encryptievaneenbestand \"></a>\n",
    "\n",
    "In dit voorbeeld wordt een volledig bestand geëncrypteerd. Hier wordt het dus via een Python biblotheek functie gedaan, maar het kan evengoed met software zoals:\n",
    "\n",
    "* 7zip\n",
    "* AEScript\n",
    "\n",
    "Volgende stappen zijn nodig in dit voorbeeld om een bestand met een sleutel te encrypteren: \n",
    "\n",
    "* Open het bestand dat de sleutel bevat.\n",
    "* Initialiseer het Fernet object en sla het op in de fernet variabele.\n",
    "* Importeer (lees) het originele bestand.\n",
    "* Versleutel het bestand en sla het op in een object.\n",
    "* Schrijf vervolgens de versleutelde gegevens in een bestand"
   ]
  },
  {
   "cell_type": "code",
   "execution_count": null,
   "metadata": {},
   "outputs": [],
   "source": [
    "# opening the key \n",
    "with open('filekey.key', 'rb') as filekey: \n",
    "    key = filekey.read() \n",
    "  \n",
    "# using the generated key \n",
    "fernet = Fernet(key) \n",
    "  \n",
    "# opening the original file to encrypt \n",
    "with open('ape_0.csv', 'rb') as file: \n",
    "    original = file.read() \n",
    "      \n",
    "# encrypting the file \n",
    "encrypted = fernet.encrypt(original) \n",
    "  \n",
    "# opening the file in write mode and  \n",
    "# writing the encrypted data \n",
    "with open('ape_0_encrypted.csv', 'wb') as encrypted_file: \n",
    "    encrypted_file.write(encrypted) "
   ]
  },
  {
   "cell_type": "markdown",
   "metadata": {},
   "source": [
    "### Decryptie van een bestand <a class=\"anchor\" id=\"Decryptievaneenbestand \"></a>\n",
    "\n",
    "\n",
    "In dit voorbeeld wordt een geëncrypteerd bestand gedecrypteerd. \n",
    "\n",
    "Volgende stappen zijn nodig in dit voorbeeld om een bestand met een sleutel te encrypteren: \n",
    "\n",
    "* Open het bestand dat de sleutel bevat (moet dezelfde sleutel zijn als degen waarmee het bestand geëncrypteerd werd)\n",
    "* Initialiseer het Fernet object en sla het op in de fernet variabele.\n",
    "* Importeer (lees) het geëncrypteerde bestand.\n",
    "* Decrypteer het bestand.\n",
    "* Schrijf vervolgens gegevens in een bestand"
   ]
  },
  {
   "cell_type": "code",
   "execution_count": null,
   "metadata": {},
   "outputs": [],
   "source": [
    "# opening the key \n",
    "with open('filekey.key', 'rb') as filekey: \n",
    "    key = filekey.read() \n",
    "\n",
    "# using the key \n",
    "fernet = Fernet(key) \n",
    "  \n",
    "# opening the encrypted file \n",
    "with open('ape_0_encrypted.csv', 'rb') as enc_file: \n",
    "    encrypted = enc_file.read() \n",
    "  \n",
    "# decrypting the file \n",
    "decrypted = fernet.decrypt(encrypted) \n",
    "  \n",
    "# opening the file in write mode and \n",
    "# writing the decrypted data \n",
    "with open('ape_0_decrypt.csv', 'wb') as dec_file: \n",
    "    dec_file.write(decrypted) "
   ]
  }
 ],
 "metadata": {
  "kernelspec": {
   "display_name": "Python 3",
   "language": "python",
   "name": "python3"
  },
  "language_info": {
   "codemirror_mode": {
    "name": "ipython",
    "version": 3
   },
   "file_extension": ".py",
   "mimetype": "text/x-python",
   "name": "python",
   "nbconvert_exporter": "python",
   "pygments_lexer": "ipython3",
   "version": "3.8.8"
  }
 },
 "nbformat": 4,
 "nbformat_minor": 4
}
